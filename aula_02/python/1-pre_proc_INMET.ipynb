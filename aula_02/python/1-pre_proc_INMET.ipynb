{
 "cells": [
  {
   "cell_type": "code",
   "execution_count": 2,
   "metadata": {},
   "outputs": [],
   "source": [
    "## Pré Processamento dos dados do INMET\n",
    "### Disciplina: ATH001 - ANÁLISE E TRATAMENTOS DE DADOS HIDROMETEOROLÓGICOS\n"
   ]
  },
  {
   "cell_type": "code",
   "execution_count": 5,
   "metadata": {},
   "outputs": [],
   "source": [
    "# Bibliotecas usadas:\n",
    "import os\n",
    "import shutil"
   ]
  },
  {
   "cell_type": "code",
   "execution_count": 2,
   "metadata": {},
   "outputs": [],
   "source": [
    "# Conversor de padrão de arquivos.\n",
    "# Converte as virgulas para pontos e depois os pontos para ponto e virgula.\n",
    "# trata o arquivo como se fosse um arquivo texto e não um CSV\n",
    "\n",
    "# Diretório com os arquivos a serem processados\n",
    "diretorio = \"../INMET_ATH_historico_bruto/\"\n",
    "\n",
    "# Loop por todos os arquivos no diretório\n",
    "for nome_arquivo in os.listdir(diretorio):\n",
    "    caminho_arquivo = os.path.join(diretorio, nome_arquivo)\n",
    "    if os.path.isfile(caminho_arquivo):  # Verifica se é um arquivo regular\n",
    "        # Lê o conteúdo do arquivo em modo binário\n",
    "        with open(caminho_arquivo, 'rb') as f:\n",
    "            conteudo = f.read()\n",
    "\n",
    "        # Decodifica o conteúdo usando a codificação padrão do sistema (pode variar)\n",
    "        conteudo_str = conteudo.decode(errors='ignore') \n",
    "\n",
    "        # Substitui ',' por '.' e ';' por ','\n",
    "        conteudo_modificado = conteudo_str.replace(',', '.').replace(';', ',')\n",
    "\n",
    "        # Codifica o conteúdo modificado de volta para bytes\n",
    "        conteudo_modificado_bytes = conteudo_modificado.encode()\n",
    "\n",
    "        # Escreve o conteúdo modificado de volta no arquivo em modo binário\n",
    "        with open(caminho_arquivo, 'wb') as f:\n",
    "            f.write(conteudo_modificado_bytes)"
   ]
  },
  {
   "cell_type": "code",
   "execution_count": 6,
   "metadata": {},
   "outputs": [],
   "source": [
    "# Remove as 8 primeiras linhas dos cabeçalhos de todos os arquivos que se encontram dentro do diretório definido em (diretorio_origem).\n",
    "# Salva os arquivos sem os cabeçalhos no diretório definido em (../INMET_ATH_historico_bruto_SEM_CABECALHO/).\n",
    "\n",
    "# Diretório com os arquivos a serem processados\n",
    "diretorio_origem = \"../INMET_ATH_historico_bruto/\"\n",
    "\n",
    "# Diretório de destino para os arquivos sem cabeçalho\n",
    "diretorio_destino = \"../INMET_ATH_historico_bruto_SEM_CABECALHO/\"\n",
    "\n",
    "# Cria o diretório de destino se ele não existir\n",
    "os.makedirs(diretorio_destino, exist_ok=True)\n",
    "\n",
    "# Loop por todos os arquivos no diretório\n",
    "for nome_arquivo in os.listdir(diretorio_origem):\n",
    "    caminho_arquivo_origem = os.path.join(diretorio_origem, nome_arquivo)\n",
    "    if os.path.isfile(caminho_arquivo_origem):  # Verifica se é um arquivo regular\n",
    "        # Lê o conteúdo do arquivo, ignorando o encoding\n",
    "        with open(caminho_arquivo_origem, 'rb') as f:\n",
    "            linhas = f.readlines()\n",
    "\n",
    "        # Remove as 8 primeiras linhas\n",
    "        linhas_sem_cabecalho = linhas[8:]\n",
    "\n",
    "        # Constrói o caminho para o arquivo de destino\n",
    "        caminho_arquivo_destino = os.path.join(diretorio_destino, nome_arquivo)\n",
    "\n",
    "        # Escreve as linhas restantes no arquivo de destino\n",
    "        with open(caminho_arquivo_destino, 'wb') as f:\n",
    "            f.writelines(linhas_sem_cabecalho)"
   ]
  }
 ],
 "metadata": {
  "kernelspec": {
   "display_name": "Python 3",
   "language": "python",
   "name": "python3"
  },
  "language_info": {
   "codemirror_mode": {
    "name": "ipython",
    "version": 3
   },
   "file_extension": ".py",
   "mimetype": "text/x-python",
   "name": "python",
   "nbconvert_exporter": "python",
   "pygments_lexer": "ipython3",
   "version": "3.12.1"
  }
 },
 "nbformat": 4,
 "nbformat_minor": 2
}
